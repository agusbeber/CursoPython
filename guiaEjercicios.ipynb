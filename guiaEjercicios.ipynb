{
 "cells": [
  {
   "cell_type": "markdown",
   "metadata": {},
   "source": [
    "## Python 🐍 Guía de actividades"
   ]
  },
  {
   "cell_type": "markdown",
   "metadata": {},
   "source": [
    "1. Crear un programa que muestre por pantalla el texto ¡Hola Mundo!."
   ]
  },
  {
   "cell_type": "code",
   "execution_count": null,
   "metadata": {},
   "outputs": [],
   "source": [
    "print('¡Hola Mundo!')"
   ]
  },
  {
   "cell_type": "markdown",
   "metadata": {},
   "source": [
    "2. Crear un programa que almacene el texto ¡Hola Mundo! en una variable y luego imprima dicho contenido por pantalla."
   ]
  },
  {
   "cell_type": "code",
   "execution_count": null,
   "metadata": {},
   "outputs": [],
   "source": [
    "texto = '¡Hola Mundo!'\n",
    "\n",
    "print(texto)"
   ]
  },
  {
   "cell_type": "markdown",
   "metadata": {},
   "source": [
    "3. Crear un programa que pregunte el nombre del usuario y después de que el usuario lo introduzca muestre por pantalla la cadena ¡Hola \\<nombre\\>!, donde \\<nombre\\> es el nombre que el usuario haya introducido."
   ]
  },
  {
   "cell_type": "code",
   "execution_count": null,
   "metadata": {},
   "outputs": [],
   "source": [
    "nombre = input('Ingrese su nombre')\n",
    "\n",
    "print(f'¡Hola {nombre}!')"
   ]
  },
  {
   "cell_type": "markdown",
   "metadata": {},
   "source": [
    "4. Crear un programa que pida al usuario dos números enteros y muestre por pantalla la división de \\<n\\> entre \\<m\\> da un cociente \\<c\\> y un resto \\<r\\> donde \\<n\\> y \\<m\\> son los números introducidos por el usuario, y \\<c\\> y \\<r\\> son el cociente y el resto de la división entera respectivamente."
   ]
  },
  {
   "cell_type": "code",
   "execution_count": null,
   "metadata": {},
   "outputs": [],
   "source": [
    "n = int(input('Ingrese el primer número'))\n",
    "m = int(input('Ingrese el segundo número'))\n",
    "c = n//m\n",
    "r = n%m\n",
    "\n",
    "print(f'Dividendo: {n}\\nDivisor: {m}\\nCociente: {c}\\nResto: {r}')"
   ]
  },
  {
   "cell_type": "markdown",
   "metadata": {},
   "source": [
    "5. Una juguetería tiene mucho éxito en dos de sus productos: payasos y muñecas. Suele hacer venta por correo y la empresa de logística les cobra por peso de cada paquete así que deben calcular el peso de los payasos y muñecas que saldrán en cada paquete a demanda. Cada payaso pesa 112 g y cada muñeca 75 g.<br>Escribir un programa que lea el número de payasos y muñecas vendidos en el último pedido y calcule el peso total del paquete que será enviado."
   ]
  },
  {
   "cell_type": "code",
   "execution_count": null,
   "metadata": {},
   "outputs": [],
   "source": [
    "payaso_peso = 112\n",
    "muñeca_peso = 75\n",
    "\n",
    "payasos_vendidos = int(input('¿Cuántos payasos se vendieron?'))\n",
    "muñecas_vendidos = int(input('¿Cuántas muñecas se vendieron?'))\n",
    "\n",
    "peso_total = (payaso_peso * payasos_vendidos) + (muñeca_peso * muñecas_vendidos)\n",
    "\n",
    "print(f'Peso total del pedido: {peso_total} g')"
   ]
  },
  {
   "cell_type": "markdown",
   "metadata": {},
   "source": [
    "6. Crear un programa que pregunte el nombre del usuario en la consola y después de que el usuario lo introduzca muestre por pantalla \\<nombre\\> tiene \\<n\\> letras, donde \\<nombre\\> es el nombre de usuario y \\<n\\> es el número de letras que tienen el nombre."
   ]
  },
  {
   "cell_type": "code",
   "execution_count": null,
   "metadata": {},
   "outputs": [],
   "source": [
    "nombre = input('Ingrese su nombre')\n",
    "\n",
    "print(f'{nombre} tiene {len(nombre)} letras')"
   ]
  },
  {
   "cell_type": "markdown",
   "metadata": {},
   "source": [
    "7. Crear un programa que pida al usuario que introduzca una frase y una letra y muestre por pantalla cuántas veces aparece dicha letra en la frase."
   ]
  },
  {
   "cell_type": "code",
   "execution_count": null,
   "metadata": {},
   "outputs": [],
   "source": [
    "frase = input('Ingrese una frase')\n",
    "letra = input('Ingrese una letra').upper()\n",
    "n = 0\n",
    "\n",
    "for i in frase:\n",
    "    if i.upper() == letra:\n",
    "        n += 1\n",
    "\n",
    "if n == 0:\n",
    "    print(f'La letra \"{letra}\" no aparece en la frase \"{frase.capitalize()}\"')\n",
    "elif n == 1:\n",
    "    print(f'La letra \"{letra}\" aparece solo 1 vez en \"{frase.capitalize()}\"')\n",
    "else:\n",
    "    print(f'La letra \"{letra}\" aparece un total de {n} veces en \"{frase.capitalize()}\"')"
   ]
  },
  {
   "cell_type": "markdown",
   "metadata": {},
   "source": [
    "8. Crear un programa que pregunte al usuario su edad y muestre por pantalla si es mayor de edad o no."
   ]
  },
  {
   "cell_type": "code",
   "execution_count": null,
   "metadata": {},
   "outputs": [],
   "source": [
    "edad = int(input('Ingrese su edad'))\n",
    "\n",
    "if edad >= 18:\n",
    "    print('Sos mayor de edad')\n",
    "else:\n",
    "    print('Sos menor de edad')"
   ]
  },
  {
   "cell_type": "markdown",
   "metadata": {},
   "source": [
    "9. Crear un programa que pida al usuario un número entero y muestre por pantalla si es par o impar."
   ]
  },
  {
   "cell_type": "code",
   "execution_count": null,
   "metadata": {},
   "outputs": [],
   "source": [
    "n = int(input('Ingrese un número'))\n",
    "\n",
    "if n%2 == 0:\n",
    "    print(f'El {n} es par')\n",
    "else:\n",
    "    print(f'El {n} es impar')"
   ]
  },
  {
   "cell_type": "markdown",
   "metadata": {},
   "source": [
    "10. Crear un programa que pida al usuario una palabra y la muestre por pantalla 10 veces."
   ]
  },
  {
   "cell_type": "code",
   "execution_count": null,
   "metadata": {},
   "outputs": [],
   "source": [
    "palabra = input('Ingrese una palabra')\n",
    "\n",
    "for i in range(10):\n",
    "    print(palabra)"
   ]
  },
  {
   "cell_type": "markdown",
   "metadata": {},
   "source": [
    "11. Crear un programa que pida al usuario una palabra y un número y muestre por pantalla la palabra la cantidad de número. Ejemplo si número es 5, mostrar la palabra 5 veces."
   ]
  },
  {
   "cell_type": "code",
   "execution_count": null,
   "metadata": {},
   "outputs": [],
   "source": [
    "palabra = input('Ingrese una palabra')\n",
    "n = int(input('Ingrese un número'))\n",
    "\n",
    "for i in range(n):\n",
    "    print(palabra)"
   ]
  },
  {
   "cell_type": "markdown",
   "metadata": {},
   "source": [
    "12. Crear un programa que pregunte al usuario su edad y muestre por pantalla todos los años que ha cumplido (desde 1 hasta su edad)."
   ]
  },
  {
   "cell_type": "code",
   "execution_count": null,
   "metadata": {},
   "outputs": [],
   "source": [
    "edad = int(input('Ingrese su edad'))\n",
    "\n",
    "for i in range(1, edad+1):\n",
    "    print(i)"
   ]
  },
  {
   "cell_type": "markdown",
   "metadata": {},
   "source": [
    "13. Crear un programa que muestre por pantalla la tabla de multiplicar del 1 al 10. Pista: va un for dentro de otro for."
   ]
  },
  {
   "cell_type": "code",
   "execution_count": null,
   "metadata": {},
   "outputs": [],
   "source": [
    "for a in range(1,11):\n",
    "    for b in range(1,11):\n",
    "        print(f'{a} x {b} = {a*b}', end='\\t')\n",
    "    print()"
   ]
  },
  {
   "cell_type": "markdown",
   "metadata": {},
   "source": [
    "14. Crear un programa que muestre el eco de todo lo que el usuario introduzca hasta que el usuario escriba “salir” que terminará."
   ]
  },
  {
   "cell_type": "code",
   "execution_count": null,
   "metadata": {},
   "outputs": [],
   "source": [
    "palabra = input('Ingrese \"Salir\"')\n",
    "\n",
    "while palabra.capitalize() != 'Salir':\n",
    "    print(palabra)\n",
    "    palabra = input('Ingrese \"Salir\"')\n",
    "else:\n",
    "    print('Saliste 👍🏼')"
   ]
  },
  {
   "cell_type": "markdown",
   "metadata": {},
   "source": [
    "15. Crear un programa que almacene las asignaturas de un curso (por ejemplo Matemáticas, Física, Química, Historia y Lengua) en una lista, pregunte al usuario la nota que ha sacado en cada asignatura, y después las muestre por pantalla con el mensaje En \\<asignatura\\> has sacado \\<nota\\> donde \\<asignatura\\> es cada una de las asignaturas de la lista y \\<nota\\> cada una de las correspondientes notas introducidas por el usuario."
   ]
  },
  {
   "cell_type": "code",
   "execution_count": null,
   "metadata": {},
   "outputs": [],
   "source": [
    "asignaturas = ['Matemática', 'Física', 'Química', 'Historia', 'Lengua']\n",
    "notas = []\n",
    "\n",
    "for asignatura in asignaturas:\n",
    "    nota = int(input(f'Nota en {asignatura}'))\n",
    "    notas.append(nota)\n",
    "\n",
    "for i in range(len(asignaturas)):\n",
    "    print(f'En {asignaturas[i]} has sacado {notas[i]}')"
   ]
  },
  {
   "cell_type": "markdown",
   "metadata": {},
   "source": [
    "16. Crear un programa que guarde en una variable el diccionario, pregunte al usuario por una divisa y muestre su símbolo o un mensaje de aviso si la divisa no está en el diccionario."
   ]
  },
  {
   "cell_type": "code",
   "execution_count": null,
   "metadata": {},
   "outputs": [],
   "source": [
    "input_usuario = input('Ingrese una divisa').capitalize()\n",
    "divisas = {'Euro':'€', 'Dollar':'$', 'Yen':'¥'}\n",
    "\n",
    "if input_usuario in divisas.keys():\n",
    "    print(input_usuario, divisas[input_usuario])\n",
    "else:\n",
    "    print(f'La divisa {input_usuario} no está en el diccionario')"
   ]
  },
  {
   "cell_type": "markdown",
   "metadata": {},
   "source": [
    "17. Crear un programa que pida al usuario una letra e indique si es una vocal o no."
   ]
  },
  {
   "cell_type": "code",
   "execution_count": null,
   "metadata": {},
   "outputs": [],
   "source": [
    "vocales = ['A','E','I','O','U']\n",
    "numeros = ['1','2','3','4','5','6','7','8','9','0']\n",
    "letra = input('Ingrese una letra').upper()\n",
    "\n",
    "if len(letra) == 1 and letra not in numeros:\n",
    "    if letra in vocales:\n",
    "        print(f'\"{letra}\" es una vocal')\n",
    "    else:\n",
    "        print(f'\"{letra}\" no es una vocal')\n",
    "else:\n",
    "    print('Error de formato')"
   ]
  }
 ],
 "metadata": {
  "kernelspec": {
   "display_name": "Python 3",
   "language": "python",
   "name": "python3"
  },
  "language_info": {
   "codemirror_mode": {
    "name": "ipython",
    "version": 3
   },
   "file_extension": ".py",
   "mimetype": "text/x-python",
   "name": "python",
   "nbconvert_exporter": "python",
   "pygments_lexer": "ipython3",
   "version": "3.10.11"
  }
 },
 "nbformat": 4,
 "nbformat_minor": 2
}
